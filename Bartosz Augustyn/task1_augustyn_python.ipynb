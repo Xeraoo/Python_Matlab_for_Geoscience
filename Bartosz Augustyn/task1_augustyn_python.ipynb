{
 "cells": [
  {
   "cell_type": "code",
   "execution_count": null,
   "metadata": {},
   "outputs": [],
   "source": [
    "import rasterio\n",
    "import numpy as np\n",
    "import matplotlib.pyplot as plt\n",
    "import seaborn as sns"
   ]
  },
  {
   "cell_type": "code",
   "execution_count": null,
   "metadata": {},
   "outputs": [],
   "source": [
    "ndvi_spring = \"t2_ndvi2024May.tif\"\n",
    "ndvi_summer = \"t2_ndvi2023_Jul_Aug.tif\"\n",
    "temp_spring = \"t2_lst2024May.tif\"\n",
    "temp_summer = \"t2_lst2023_Jul_Aug.tif\""
   ]
  },
  {
   "cell_type": "code",
   "execution_count": null,
   "metadata": {},
   "outputs": [],
   "source": [
    "def read_tif(filepath):\n",
    "    with rasterio.open(filepath) as dataset:\n",
    "        return dataset.read(1)"
   ]
  },
  {
   "cell_type": "code",
   "execution_count": null,
   "metadata": {},
   "outputs": [],
   "source": [
    "ndvi_spring = read_tif(ndvi_spring)\n",
    "ndvi_summer = read_tif(ndvi_summer)\n",
    "temp_spring = read_tif(temp_spring)\n",
    "temp_summer = read_tif(temp_summer)\n",
    "\n",
    "fig, axes = plt.subplots(2, 2, figsize=(12, 10))"
   ]
  },
  {
   "cell_type": "code",
   "execution_count": null,
   "metadata": {},
   "outputs": [],
   "source": [
    "images = [\n",
    "    (ndvi_spring, \"NDVI Spring\", \"Greens\"),\n",
    "    (ndvi_summer, \"NDVI Summer\", \"Greens\"),\n",
    "    (temp_spring, \"Temperature Spring\", \"coolwarm\"),\n",
    "    (temp_summer, \"Temperature Summer\", \"coolwarm\")\n",
    "]"
   ]
  },
  {
   "cell_type": "code",
   "execution_count": null,
   "metadata": {},
   "outputs": [],
   "source": [
    "for ax, (data, title, cmap) in zip(axes.flat, images):\n",
    "    img = ax.imshow(data, cmap=cmap)\n",
    "    ax.set_title(title)\n",
    "    fig.colorbar(img, ax=ax)\n",
    "\n",
    "plt.tight_layout()\n",
    "plt.show()\n"
   ]
  },
  {
   "cell_type": "code",
   "execution_count": null,
   "metadata": {},
   "outputs": [],
   "source": [
    "fig, ax = plt.subplots(1, 2, figsize=(12, 5))\n",
    "\n",
    "sns.histplot(ndvi_spring.flatten(), bins=30, kde=True, ax=ax[0], color='green', label='NDVI Spring')\n",
    "sns.histplot(ndvi_summer.flatten(), bins=30, kde=True, ax=ax[0], color='darkgreen', alpha=0.7, label='NDVI Summer')\n",
    "ax[0].set_title('NDVI Histogram')\n",
    "ax[0].legend()\n",
    "\n",
    "sns.histplot(temp_spring.flatten(), bins=30, kde=True, ax=ax[1], color='blue', label='Temperature Spring')\n",
    "sns.histplot(temp_summer.flatten(), bins=30, kde=True, ax=ax[1], color='red', alpha=0.7, label='Temperature Summer')\n",
    "ax[1].set_title('Temperature Histogram')\n",
    "ax[1].legend()\n",
    "\n",
    "plt.show()\n"
   ]
  },
  {
   "cell_type": "code",
   "execution_count": null,
   "metadata": {},
   "outputs": [],
   "source": [
    "plt.figure(figsize=(8, 6))\n",
    "sns.scatterplot(x=ndvi_spring.flatten(), y=temp_spring.flatten(), color='blue', alpha=0.5, label='Spring')\n",
    "sns.scatterplot(x=ndvi_summer.flatten(), y=temp_summer.flatten(), color='red', alpha=0.5, label='Summer')\n",
    "plt.xlabel('NDVI')\n",
    "plt.ylabel('Temperature')\n",
    "plt.title('Scatter Plot: NDVI vs. Temperature')\n",
    "plt.legend()\n",
    "plt.show()"
   ]
  }
 ],
 "metadata": {
  "kernelspec": {
   "display_name": "base",
   "language": "python",
   "name": "python3"
  },
  "language_info": {
   "name": "python",
   "version": "3.9.18"
  }
 },
 "nbformat": 4,
 "nbformat_minor": 2
}
