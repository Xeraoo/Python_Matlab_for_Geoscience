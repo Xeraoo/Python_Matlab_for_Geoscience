{
 "cells": [
  {
   "cell_type": "code",
   "execution_count": 2,
   "metadata": {},
   "outputs": [
    {
     "name": "stdout",
     "output_type": "stream",
     "text": [
      "\n",
      " Results [cm]:\n",
      "Mean Error (Bias): 2.2757\n",
      "Standard Deviation: 7.3809\n",
      "RMSE: 7.7237\n",
      "Min ΔH: -33.5400\n",
      "Max ΔH: 47.5700\n"
     ]
    }
   ],
   "source": [
    "import laspy\n",
    "import geopandas as gpd\n",
    "import rasterio\n",
    "import numpy as np\n",
    "import pandas as pd\n",
    "from scipy.spatial import cKDTree\n",
    "\n",
    "# 📌 1. Load DEM from SHP file (2024)\n",
    "def read_dem(shp_path):\n",
    "    dem = gpd.read_file(shp_path)\n",
    "    return dem\n",
    "\n",
    "# 📌 2. Load point cloud (LAZ 2021)\n",
    "def read_point_cloud(laz_path):\n",
    "    las = laspy.read(laz_path)\n",
    "    return np.vstack((las.x, las.y, las.z)).T  # XYZ matrix\n",
    "\n",
    "# 📌 3. Compute height difference deltaH = Z_LAZ - Z_DEM\n",
    "def compute_dh(point_cloud, dem):\n",
    "    # Create a spatial tree with DEM points\n",
    "    dem_coords = np.array(list(zip(dem.geometry.x, dem.geometry.y, dem['Z'])))\n",
    "    dem_tree = cKDTree(dem_coords[:, :2])\n",
    "\n",
    "    # Find the closest DEM point for each point in the cloud\n",
    "    distances, indices = dem_tree.query(point_cloud[:, :2])\n",
    "\n",
    "    # Get heights from DEM for the found points\n",
    "    z_dem = dem_coords[indices, 2]\n",
    "\n",
    "    # Calculate deltaH\n",
    "    delta_h = point_cloud[:, 2] - z_dem\n",
    "    return delta_h\n",
    "\n",
    "# 📌 4. Compute accuracy metrics\n",
    "def compute_accuracy(delta_h):\n",
    "    metrics = {\n",
    "        \"Mean Error (Bias)\": np.mean(delta_h),\n",
    "        \"Standard Deviation\": np.std(delta_h),\n",
    "        \"RMSE\": np.sqrt(np.mean(delta_h**2)),\n",
    "        \"Min ΔH\": np.min(delta_h),\n",
    "        \"Max ΔH\": np.max(delta_h),\n",
    "    }\n",
    "    return metrics\n",
    "\n",
    "# 📌 Main function\n",
    "def main():\n",
    "    shp_path = \"C:/Users/BARTEK/Desktop/exam/2/Lubin_2024_03_27_pc_t1.shp\" \n",
    "    laz_path = \"C:/Users/BARTEK/Desktop/exam/2/Lubin_2021_09_26_pc.laz\" \n",
    "\n",
    "    dem = read_dem(shp_path)\n",
    "    point_cloud = read_point_cloud(laz_path)\n",
    "    delta_h = compute_dh(point_cloud, dem)\n",
    "    metrics = compute_accuracy(delta_h)\n",
    "\n",
    "    print(\"\\n Results [cm]:\")\n",
    "    for key, value in metrics.items():\n",
    "        print(f\"{key}: {value:.4f}\")\n",
    "\n",
    "if __name__ == \"__main__\":\n",
    "    main()\n"
   ]
  },
  {
   "cell_type": "code",
   "execution_count": null,
   "metadata": {},
   "outputs": [],
   "source": []
  }
 ],
 "metadata": {
  "kernelspec": {
   "display_name": "base",
   "language": "python",
   "name": "python3"
  },
  "language_info": {
   "codemirror_mode": {
    "name": "ipython",
    "version": 3
   },
   "file_extension": ".py",
   "mimetype": "text/x-python",
   "name": "python",
   "nbconvert_exporter": "python",
   "pygments_lexer": "ipython3",
   "version": "3.9.18"
  }
 },
 "nbformat": 4,
 "nbformat_minor": 2
}
